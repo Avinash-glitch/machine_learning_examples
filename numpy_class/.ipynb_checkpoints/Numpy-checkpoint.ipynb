{
 "cells": [
  {
   "cell_type": "code",
   "execution_count": 2,
   "metadata": {},
   "outputs": [
    {
     "name": "stdout",
     "output_type": "stream",
     "text": [
      "1\n",
      "2\n",
      "3\n",
      "1\n",
      "2\n",
      "3\n"
     ]
    }
   ],
   "source": [
    "#LISTS VS ARRAYS\n",
    "import numpy as np\n",
    "L = [1,2,3]\n",
    "A = np.array([1,2,3])\n",
    "for e in L:\n",
    "    print(e)\n",
    "    \n",
    "for e in A:\n",
    "    print(e)"
   ]
  },
  {
   "cell_type": "code",
   "execution_count": 3,
   "metadata": {},
   "outputs": [
    {
     "data": {
      "text/plain": [
       "[1, 2, 3, 4]"
      ]
     },
     "execution_count": 3,
     "metadata": {},
     "output_type": "execute_result"
    }
   ],
   "source": [
    "L.append(4)\n",
    "L"
   ]
  },
  {
   "cell_type": "code",
   "execution_count": 4,
   "metadata": {},
   "outputs": [
    {
     "ename": "AttributeError",
     "evalue": "'numpy.ndarray' object has no attribute 'append'",
     "output_type": "error",
     "traceback": [
      "\u001b[1;31m---------------------------------------------------------------------------\u001b[0m",
      "\u001b[1;31mAttributeError\u001b[0m                            Traceback (most recent call last)",
      "\u001b[1;32m<ipython-input-4-7b48164c1d55>\u001b[0m in \u001b[0;36m<module>\u001b[1;34m()\u001b[0m\n\u001b[1;32m----> 1\u001b[1;33m \u001b[0mA\u001b[0m\u001b[1;33m.\u001b[0m\u001b[0mappend\u001b[0m\u001b[1;33m(\u001b[0m\u001b[1;36m4\u001b[0m\u001b[1;33m)\u001b[0m\u001b[1;33m\u001b[0m\u001b[0m\n\u001b[0m",
      "\u001b[1;31mAttributeError\u001b[0m: 'numpy.ndarray' object has no attribute 'append'"
     ]
    }
   ],
   "source": [
    "A.append(4)"
   ]
  },
  {
   "cell_type": "code",
   "execution_count": 5,
   "metadata": {},
   "outputs": [
    {
     "data": {
      "text/plain": [
       "[1, 2, 3, 4, 5]"
      ]
     },
     "execution_count": 5,
     "metadata": {},
     "output_type": "execute_result"
    }
   ],
   "source": [
    "L = L + [5]\n",
    "L"
   ]
  },
  {
   "cell_type": "code",
   "execution_count": 6,
   "metadata": {},
   "outputs": [
    {
     "ename": "ValueError",
     "evalue": "operands could not be broadcast together with shapes (3,) (2,) ",
     "output_type": "error",
     "traceback": [
      "\u001b[1;31m---------------------------------------------------------------------------\u001b[0m",
      "\u001b[1;31mValueError\u001b[0m                                Traceback (most recent call last)",
      "\u001b[1;32m<ipython-input-6-d36005aacecb>\u001b[0m in \u001b[0;36m<module>\u001b[1;34m()\u001b[0m\n\u001b[1;32m----> 1\u001b[1;33m \u001b[0mA\u001b[0m \u001b[1;33m=\u001b[0m \u001b[0mA\u001b[0m \u001b[1;33m+\u001b[0m \u001b[1;33m[\u001b[0m\u001b[1;36m4\u001b[0m\u001b[1;33m,\u001b[0m\u001b[1;36m5\u001b[0m\u001b[1;33m]\u001b[0m\u001b[1;33m\u001b[0m\u001b[0m\n\u001b[0m",
      "\u001b[1;31mValueError\u001b[0m: operands could not be broadcast together with shapes (3,) (2,) "
     ]
    }
   ],
   "source": [
    "A = A + [4,5]"
   ]
  },
  {
   "cell_type": "code",
   "execution_count": 7,
   "metadata": {},
   "outputs": [
    {
     "data": {
      "text/plain": [
       "[2, 4, 6, 8, 10]"
      ]
     },
     "execution_count": 7,
     "metadata": {},
     "output_type": "execute_result"
    }
   ],
   "source": [
    "L2 = [] #plus sign in lists does concatenation\n",
    "for e in L:\n",
    "    L2.append(e+e)\n",
    "L2"
   ]
  },
  {
   "cell_type": "code",
   "execution_count": 8,
   "metadata": {},
   "outputs": [
    {
     "data": {
      "text/plain": [
       "array([2, 4, 6])"
      ]
     },
     "execution_count": 8,
     "metadata": {},
     "output_type": "execute_result"
    }
   ],
   "source": [
    "A+A #but in numpy plus sign does vector/matrix addition\n",
    "#element wise addition, so if 2d matrix does elt wise matrix add"
   ]
  },
  {
   "cell_type": "code",
   "execution_count": 9,
   "metadata": {},
   "outputs": [
    {
     "data": {
      "text/plain": [
       "array([2, 4, 6])"
      ]
     },
     "execution_count": 9,
     "metadata": {},
     "output_type": "execute_result"
    }
   ],
   "source": [
    "2*A #another way to get to times vector without adding to itself\n",
    "# is obviously multiplication, duh. this is scalar*vector"
   ]
  },
  {
   "cell_type": "code",
   "execution_count": 10,
   "metadata": {},
   "outputs": [
    {
     "data": {
      "text/plain": [
       "[1, 2, 3, 4, 5, 1, 2, 3, 4, 5]"
      ]
     },
     "execution_count": 10,
     "metadata": {},
     "output_type": "execute_result"
    }
   ],
   "source": [
    "2*L #gets list twice, repeats what was in list two times, no mult"
   ]
  },
  {
   "cell_type": "code",
   "execution_count": 11,
   "metadata": {},
   "outputs": [
    {
     "data": {
      "text/plain": [
       "[2, 4, 6, 8, 10]"
      ]
     },
     "execution_count": 11,
     "metadata": {},
     "output_type": "execute_result"
    }
   ],
   "source": [
    "L3 = [] #to actually get mult with List need for loop\n",
    "for e in L:\n",
    "    L3.append(2*e)\n",
    "L3"
   ]
  },
  {
   "cell_type": "code",
   "execution_count": 12,
   "metadata": {
    "scrolled": true
   },
   "outputs": [
    {
     "ename": "TypeError",
     "evalue": "unsupported operand type(s) for ** or pow(): 'list' and 'int'",
     "output_type": "error",
     "traceback": [
      "\u001b[1;31m---------------------------------------------------------------------------\u001b[0m",
      "\u001b[1;31mTypeError\u001b[0m                                 Traceback (most recent call last)",
      "\u001b[1;32m<ipython-input-12-d3f0bdb154a3>\u001b[0m in \u001b[0;36m<module>\u001b[1;34m()\u001b[0m\n\u001b[1;32m----> 1\u001b[1;33m \u001b[0mL\u001b[0m\u001b[1;33m**\u001b[0m\u001b[1;36m2\u001b[0m \u001b[1;31m#cant do power/exp on list, mult doesnt actually work either\u001b[0m\u001b[1;33m\u001b[0m\u001b[0m\n\u001b[0m\u001b[0;32m      2\u001b[0m \u001b[1;31m#would again have to use for loop, this time append(e*e)\u001b[0m\u001b[1;33m\u001b[0m\u001b[1;33m\u001b[0m\u001b[0m\n\u001b[0;32m      3\u001b[0m \u001b[1;31m#for lists you need for loop to do any element wise operation.\u001b[0m\u001b[1;33m\u001b[0m\u001b[1;33m\u001b[0m\u001b[0m\n",
      "\u001b[1;31mTypeError\u001b[0m: unsupported operand type(s) for ** or pow(): 'list' and 'int'"
     ]
    }
   ],
   "source": [
    "L**2 #cant do power/exp on list, mult doesnt actually work either\n",
    "#would again have to use for loop, this time append(e*e)\n",
    "#for lists you need for loop to do any element wise operation."
   ]
  },
  {
   "cell_type": "code",
   "execution_count": 13,
   "metadata": {},
   "outputs": [
    {
     "data": {
      "text/plain": [
       "array([1, 4, 9])"
      ]
     },
     "execution_count": 13,
     "metadata": {},
     "output_type": "execute_result"
    }
   ],
   "source": [
    "A**2 #simple, most functions act element wise in numpy"
   ]
  },
  {
   "cell_type": "code",
   "execution_count": 14,
   "metadata": {},
   "outputs": [
    {
     "name": "stdout",
     "output_type": "stream",
     "text": [
      "[ 1.          1.41421356  1.73205081]\n",
      "[ 0.          0.69314718  1.09861229]\n"
     ]
    },
    {
     "data": {
      "text/plain": [
       "array([  2.71828183,   7.3890561 ,  20.08553692])"
      ]
     },
     "execution_count": 14,
     "metadata": {},
     "output_type": "execute_result"
    }
   ],
   "source": [
    "print(np.sqrt(A)) #element wise square root\n",
    "print(np.log(A)) #element wise log\n",
    "np.exp(A) #element wise exponential\n",
    "# to do any of this w/ list need for loop, each elt indiv. oper."
   ]
  },
  {
   "cell_type": "markdown",
   "metadata": {},
   "source": [
    "You can treat list as an array, numpy array is a vector (math obj) to do operations on list. Use numpy array instead of for loop with list whenever doing elt wise operations, because for loops are slow.  "
   ]
  },
  {
   "cell_type": "code",
   "execution_count": 15,
   "metadata": {},
   "outputs": [
    {
     "data": {
      "text/plain": [
       "4"
      ]
     },
     "execution_count": 15,
     "metadata": {},
     "output_type": "execute_result"
    }
   ],
   "source": [
    "#DOT PRODUCT 1 AND 2\n",
    "# a type of multiplication done on vectors, inner product\n",
    "#two defs. first is sum of elt wise multip of two vectors.\n",
    "#second is |a||b|cos(angle betw a & b), pipes mean magnitude.\n",
    "#dont really use second as u need to know all that shit, typical\n",
    "#to use both to get angle to begin with -> cos() = a^T*b/(|a||b|)\n",
    "#where a^T*b same as a.dot(b)\n",
    "a = np.array([1,2])\n",
    "b = np.array([2,1])\n",
    "dot = 0\n",
    "for e,f in zip(a,b):\n",
    "    dot += e*f\n",
    "dot"
   ]
  },
  {
   "cell_type": "code",
   "execution_count": 16,
   "metadata": {},
   "outputs": [
    {
     "data": {
      "text/plain": [
       "array([2, 2])"
      ]
     },
     "execution_count": 16,
     "metadata": {},
     "output_type": "execute_result"
    }
   ],
   "source": [
    "a*b # element wise mult"
   ]
  },
  {
   "cell_type": "code",
   "execution_count": 17,
   "metadata": {},
   "outputs": [
    {
     "data": {
      "text/plain": [
       "4"
      ]
     },
     "execution_count": 17,
     "metadata": {},
     "output_type": "execute_result"
    }
   ],
   "source": [
    "np.sum(a*b) #sum of elt wise mult, so dot product. matches 'dot' ."
   ]
  },
  {
   "cell_type": "code",
   "execution_count": 18,
   "metadata": {
    "scrolled": true
   },
   "outputs": [
    {
     "data": {
      "text/plain": [
       "4"
      ]
     },
     "execution_count": 18,
     "metadata": {},
     "output_type": "execute_result"
    }
   ],
   "source": [
    "(a*b).sum() #alternative. sum fn is instnce of 'numpy.ndarray' obj"
   ]
  },
  {
   "cell_type": "code",
   "execution_count": 19,
   "metadata": {},
   "outputs": [
    {
     "name": "stdout",
     "output_type": "stream",
     "text": [
      "4\n",
      "4\n",
      "4\n"
     ]
    }
   ],
   "source": [
    "print(np.dot(a,b)) # all the same, again dot fn is also instnce .\n",
    "print(a.dot(b))\n",
    "print(b.dot(a))"
   ]
  },
  {
   "cell_type": "code",
   "execution_count": 20,
   "metadata": {
    "scrolled": true
   },
   "outputs": [
    {
     "data": {
      "text/plain": [
       "0.79999999999999982"
      ]
     },
     "execution_count": 20,
     "metadata": {},
     "output_type": "execute_result"
    }
   ],
   "source": [
    "amag = np.sqrt((a*a).sum())\n",
    "bmag = np.sqrt((b**2).sum())\n",
    "amag = np.linalg.norm(a) #magn is common operation, np provides.\n",
    "cosangle = a.dot(b) / (np.linalg.norm(a)*np.linalg.norm(b))\n",
    "cosangle #cos of angle, so np.arccos(cosangle) = .6435011 radians"
   ]
  },
  {
   "cell_type": "code",
   "execution_count": 21,
   "metadata": {
    "collapsed": true
   },
   "outputs": [],
   "source": [
    "#if you run dot_for.py in numpy folder, dot fn is at least\n",
    "#30 to 40 times faster than for loop. dont use for!"
   ]
  },
  {
   "cell_type": "code",
   "execution_count": 22,
   "metadata": {},
   "outputs": [
    {
     "data": {
      "text/plain": [
       "1"
      ]
     },
     "execution_count": 22,
     "metadata": {},
     "output_type": "execute_result"
    }
   ],
   "source": [
    "#VECTORS AND MATRICES\n",
    "# known: np array is like vector can mult by scalar or do elt wise ops.\n",
    "#a matrix is a two d array or list of lists\n",
    "M = np.array([[1,2], [3,4]]) #list of lists\n",
    "L = [ [1,2], [3,4] ] # actual list of lists\n",
    "L[0] #1st index is row, 2nd (if given) column, so here get [1,2]\n",
    "L[0][0] #1st row 1st col value is 1.\n",
    "M[0][0] "
   ]
  },
  {
   "cell_type": "code",
   "execution_count": 23,
   "metadata": {},
   "outputs": [
    {
     "data": {
      "text/plain": [
       "array([[1, 2],\n",
       "       [3, 4]])"
      ]
     },
     "execution_count": 23,
     "metadata": {},
     "output_type": "execute_result"
    }
   ],
   "source": [
    "M = np.array([ [1,2], [3,4] ])\n",
    "M"
   ]
  },
  {
   "cell_type": "code",
   "execution_count": 24,
   "metadata": {},
   "outputs": [
    {
     "data": {
      "text/plain": [
       "matrix([[1, 2],\n",
       "        [3, 4]])"
      ]
     },
     "execution_count": 24,
     "metadata": {},
     "output_type": "execute_result"
    }
   ],
   "source": [
    "M2 = np.matrix([ [1,2], [3,4] ])\n",
    "M2 #similar to np array but not exact same. most of time\n",
    "#the np array is used, docs even advise against matrix.\n",
    "#so not concerned with np matrix in this course. "
   ]
  },
  {
   "cell_type": "code",
   "execution_count": 25,
   "metadata": {},
   "outputs": [
    {
     "data": {
      "text/plain": [
       "array([[1, 2],\n",
       "       [3, 4]])"
      ]
     },
     "execution_count": 25,
     "metadata": {},
     "output_type": "execute_result"
    }
   ],
   "source": [
    "#if you see a matrix might be good to convert to np array\n",
    "A = np.array(M2)\n",
    "A"
   ]
  },
  {
   "cell_type": "code",
   "execution_count": 27,
   "metadata": {},
   "outputs": [
    {
     "data": {
      "text/plain": [
       "array([[1, 3],\n",
       "       [2, 4]])"
      ]
     },
     "execution_count": 27,
     "metadata": {},
     "output_type": "execute_result"
    }
   ],
   "source": [
    "A.T #it's an np ndarray but still have convenient matrix operations\n",
    "#transpose. matrix is 2d np array, vector is 1d np array. so matrix is 2d vect.\n",
    "#matrix is 2d math obj containing #s, vector is 1d math obj containing #s\n",
    "#in math book col vector is [1,3] and row vector is [3,1] you write both dims, \n",
    "#But! in numpy vect is 1d array, write row/col dim, other dim (the 1) omitted."
   ]
  },
  {
   "cell_type": "code",
   "execution_count": 28,
   "metadata": {},
   "outputs": [
    {
     "data": {
      "text/plain": [
       "array([ 0.,  0.,  0.,  0.,  0.])"
      ]
     },
     "execution_count": 28,
     "metadata": {},
     "output_type": "execute_result"
    }
   ],
   "source": [
    "#GENERATING MATRICES TO WORK WITH\n",
    "#np.array([1,2,3])- this gets inconvenient manual, what if want arr of size 100\n",
    "np.zeros(5) #zeros, ones and random.random take an int (1 dim) or tuple of ints"
   ]
  },
  {
   "cell_type": "code",
   "execution_count": 34,
   "metadata": {},
   "outputs": [
    {
     "data": {
      "text/plain": [
       "array([[ 0.28555516,  0.59340346,  0.23372132,  0.71713199,  0.01769083,\n",
       "         0.66621702,  0.7733999 ,  0.35169997,  0.42558023,  0.05563721],\n",
       "       [ 0.30291902,  0.34341174,  0.5918842 ,  0.59670743,  0.39920024,\n",
       "         0.31023669,  0.77324557,  0.99828855,  0.5491813 ,  0.55069128],\n",
       "       [ 0.54512418,  0.5753441 ,  0.91423797,  0.68534202,  0.18281896,\n",
       "         0.14526948,  0.66748852,  0.07574065,  0.80405364,  0.63355317],\n",
       "       [ 0.52239303,  0.1279404 ,  0.13361952,  0.8172138 ,  0.68482561,\n",
       "         0.59145361,  0.46387856,  0.54242607,  0.82772829,  0.40244304],\n",
       "       [ 0.54728462,  0.73564872,  0.32959051,  0.44298974,  0.66271945,\n",
       "         0.71244726,  0.45931958,  0.86784354,  0.06683053,  0.62014222],\n",
       "       [ 0.98201308,  0.60195599,  0.60991874,  0.92902423,  0.6859749 ,\n",
       "         0.95905194,  0.66553371,  0.53059543,  0.3478187 ,  0.63384988],\n",
       "       [ 0.99928096,  0.4614699 ,  0.46495234,  0.78024101,  0.86313097,\n",
       "         0.51017519,  0.93078678,  0.98973477,  0.84471743,  0.37124676],\n",
       "       [ 0.98191251,  0.20209001,  0.86324055,  0.10186624,  0.10201422,\n",
       "         0.7854444 ,  0.83621915,  0.32710876,  0.0934334 ,  0.15211705],\n",
       "       [ 0.03314239,  0.69159827,  0.91411957,  0.41911728,  0.35036987,\n",
       "         0.39332667,  0.50196257,  0.83714406,  0.06538259,  0.00395901],\n",
       "       [ 0.58004991,  0.06772983,  0.73651683,  0.54265324,  0.030179  ,\n",
       "         0.85808799,  0.34290007,  0.6416191 ,  0.46789266,  0.71839892]])"
      ]
     },
     "execution_count": 34,
     "metadata": {},
     "output_type": "execute_result"
    }
   ],
   "source": [
    "Z = np.zeros((10,10))\n",
    "O = np.ones((10,10))\n",
    "R = np.random.random((10,10)) #all great than 0 and less than 1\n",
    "#when doing rand #s want to kno what prob dist #s came from.\n",
    "#random.random gives uniform dist betw 0 and 1, could use histogram to check\n",
    "R"
   ]
  },
  {
   "cell_type": "code",
   "execution_count": 38,
   "metadata": {},
   "outputs": [
    {
     "name": "stdout",
     "output_type": "stream",
     "text": [
      "0.0551838323546\n"
     ]
    },
    {
     "data": {
      "text/plain": [
       "0.99297981230113652"
      ]
     },
     "execution_count": 38,
     "metadata": {},
     "output_type": "execute_result"
    }
   ],
   "source": [
    "G = np.random.randn(10,10) #only this one takes more than 1 dim as mult args\n",
    "#all the others like random.random, zeros and ones take tuple of ints (1 arg)\n",
    "#, when there is more than 1 dim given.\n",
    "\n",
    "#these numbers are from gaussian dist with mean 0 and variance 1.\n",
    "print(G.mean()) #this mean and var are pretty close to true expected vals 0&1\n",
    "G.var()"
   ]
  },
  {
   "cell_type": "code",
   "execution_count": null,
   "metadata": {
    "collapsed": true
   },
   "outputs": [],
   "source": [
    "#MATRIX PRODUCTS"
   ]
  },
  {
   "cell_type": "markdown",
   "metadata": {},
   "source": [
    "in matrix mult inner dims must match. if AB, need A dims [m,n] & B dims [n,p]\n",
    " for A(2,3) & B(3,3) , AB works but BA won't (3,3)*(2,3) inner dim mismatch\n",
    "in AB=C, (i,j)th entry of C is dot product of row A(i,:) and col B(:,j)\n",
    "in numpy C=A.dot(B) does this standard matrix multiplication\n",
    "\n",
    "for vectors 1d np arrays, asterisk does element wise mult. same for 2d arrays.\n",
    "so when using asterisk with multidim arrays must have exact same size.\n",
    "in other langs asterisk actually means reg matrix mult, but in numpy\n",
    "the asterisk is elt wise and the .dot operation does regular matmul \n",
    "no well def sym for elt wise mult. both dot-in-circle or x-in-circle. \n",
    "\n",
    "¯\\_(ツ)_/¯"
   ]
  },
  {
   "cell_type": "code",
   "execution_count": 39,
   "metadata": {},
   "outputs": [
    {
     "data": {
      "text/plain": [
       "array([[-2. ,  1. ],\n",
       "       [ 1.5, -0.5]])"
      ]
     },
     "execution_count": 39,
     "metadata": {},
     "output_type": "execute_result"
    }
   ],
   "source": [
    "#MATRIX OPERATIONS\n",
    "A = np.array([ [1,2], [3,4] ])\n",
    "Ainv = np.linalg.inv(A)\n",
    "Ainv"
   ]
  },
  {
   "cell_type": "code",
   "execution_count": 40,
   "metadata": {},
   "outputs": [
    {
     "data": {
      "text/plain": [
       "array([[  1.00000000e+00,   4.44089210e-16],\n",
       "       [  0.00000000e+00,   1.00000000e+00]])"
      ]
     },
     "execution_count": 40,
     "metadata": {},
     "output_type": "execute_result"
    }
   ],
   "source": [
    "Ainv.dot(A) #checking that inv calc correct, get identity matrix below\n",
    "#A.dot(Ainv) would be the same obviously"
   ]
  },
  {
   "cell_type": "code",
   "execution_count": 41,
   "metadata": {},
   "outputs": [
    {
     "data": {
      "text/plain": [
       "-2.0000000000000004"
      ]
     },
     "execution_count": 41,
     "metadata": {},
     "output_type": "execute_result"
    }
   ],
   "source": [
    "np.linalg.det(A) #ad - bc for a 2d matrix"
   ]
  },
  {
   "cell_type": "code",
   "execution_count": 42,
   "metadata": {},
   "outputs": [
    {
     "data": {
      "text/plain": [
       "array([1, 4])"
      ]
     },
     "execution_count": 42,
     "metadata": {},
     "output_type": "execute_result"
    }
   ],
   "source": [
    "np.diag(A) #when it takes 2d it gives back 1d of the diags\n",
    "#if you give it 1d: \n",
    "#assumes that its the diags and all other elts 0. so u get back 2d of that."
   ]
  },
  {
   "cell_type": "code",
   "execution_count": 43,
   "metadata": {},
   "outputs": [
    {
     "data": {
      "text/plain": [
       "array([[3, 4],\n",
       "       [6, 8]])"
      ]
     },
     "execution_count": 43,
     "metadata": {},
     "output_type": "execute_result"
    }
   ],
   "source": [
    "a = np.array([1,2])\n",
    "b = np.array([3,4])\n",
    "np.outer(a,b) #look up outer prod, used when calc covariances of sample vects."
   ]
  },
  {
   "cell_type": "code",
   "execution_count": 45,
   "metadata": {},
   "outputs": [
    {
     "data": {
      "text/plain": [
       "True"
      ]
     },
     "execution_count": 45,
     "metadata": {},
     "output_type": "execute_result"
    }
   ],
   "source": [
    "np.inner(a,b) == a.dot(b) #both are the same - innerprod means dotprod"
   ]
  },
  {
   "cell_type": "code",
   "execution_count": 48,
   "metadata": {
    "scrolled": true
   },
   "outputs": [
    {
     "data": {
      "text/plain": [
       "True"
      ]
     },
     "execution_count": 48,
     "metadata": {},
     "output_type": "execute_result"
    }
   ],
   "source": [
    "np.diag(A).sum() == np.trace(A) == 5 #trace sums the diags"
   ]
  },
  {
   "cell_type": "code",
   "execution_count": 52,
   "metadata": {},
   "outputs": [
    {
     "data": {
      "text/plain": [
       "(100, 100)"
      ]
     },
     "execution_count": 52,
     "metadata": {},
     "output_type": "execute_result"
    }
   ],
   "source": [
    "#if want to compyte eigenvals/vects of symmetr matrix like cov matr of dataset\n",
    "X = np.random.randn(100,3) #each sample takes up a row, each col a feature\n",
    "cov = np.cov(X)\n",
    "cov.shape #expect it to be 3 by 3 since data sample(row) has 3 dims/cols"
   ]
  },
  {
   "cell_type": "code",
   "execution_count": 53,
   "metadata": {},
   "outputs": [
    {
     "data": {
      "text/plain": [
       "(3, 3)"
      ]
     },
     "execution_count": 53,
     "metadata": {},
     "output_type": "execute_result"
    }
   ],
   "source": [
    "#didnt work shape was wrong so to calc cov of data matrix, transpose it first\n",
    "cov = np.cov(X.T) #that's better :)\n",
    "cov.shape"
   ]
  },
  {
   "cell_type": "code",
   "execution_count": 54,
   "metadata": {},
   "outputs": [
    {
     "data": {
      "text/plain": [
       "(array([ 0.87268844,  1.1857435 ,  1.34322514]),\n",
       " array([[ 0.2243159 ,  0.42159163,  0.8786028 ],\n",
       "        [-0.97435769,  0.08075184,  0.21001484],\n",
       "        [-0.01759171,  0.90318306, -0.42889496]]))"
      ]
     },
     "execution_count": 54,
     "metadata": {},
     "output_type": "execute_result"
    }
   ],
   "source": [
    "#to calc eigvals/vects use np.eig or np.eigh (only for hermitian/symettr matr)\n",
    "#a symmetric matrix is transpose of itself . cov is symmetric so eigh works.\n",
    "np.linalg.eigh(cov) #two tupes, first contains 3 eigvals, 2nd has vects in cols\n",
    "#np.linalg.eig would give same ans but vals and vects could be in diff order."
   ]
  },
  {
   "cell_type": "code",
   "execution_count": 59,
   "metadata": {},
   "outputs": [
    {
     "data": {
      "text/plain": [
       "array([  2.22044605e-16,   5.00000000e-01])"
      ]
     },
     "execution_count": 59,
     "metadata": {},
     "output_type": "execute_result"
    }
   ],
   "source": [
    "#SOLVING A LINEAR SYSTEM\n",
    "#linear sys is form Ax = b, A is matr, x is col vect of unkwns and b vect of #s\n",
    "#solution is mult by Ainv on both sides. A must be square matr (invertible).\n",
    "#then x will have a unique solution. if dim of x is d, d equations and d unkwn.\n",
    "A = np.array([[1,2], [3,4] ])\n",
    "b = np.array([1,2])\n",
    "x = np.linalg.inv(A).dot(b)\n",
    "x"
   ]
  },
  {
   "cell_type": "code",
   "execution_count": 62,
   "metadata": {},
   "outputs": [
    {
     "data": {
      "text/plain": [
       "array([ 0. ,  0.5])"
      ]
     },
     "execution_count": 62,
     "metadata": {},
     "output_type": "execute_result"
    }
   ],
   "source": [
    "x = np.linalg.solve(A,b)\n",
    "x #in matlab if u use inv(A)*b aka Ainv.dot(b) get warning to use its \"solve()\"\n",
    "#always use solve, the algorithm is far more efficient than inverse method."
   ]
  },
  {
   "cell_type": "code",
   "execution_count": 63,
   "metadata": {},
   "outputs": [
    {
     "data": {
      "text/plain": [
       "array([ 1500.,   700.])"
      ]
     },
     "execution_count": 63,
     "metadata": {},
     "output_type": "execute_result"
    }
   ],
   "source": [
    "#WORD PROBLEM\n",
    "A = np.array([[1.5, 4], [1, 1]]) #could be [[1,1],[1.5, 4]] with b=[2200, 5050]\n",
    "b = np.array([5050, 2200])\n",
    "np.linalg.solve(A,b) #can try solving by hand to verify answer"
   ]
  }
 ],
 "metadata": {
  "kernelspec": {
   "display_name": "Python 3",
   "language": "python",
   "name": "python3"
  },
  "language_info": {
   "codemirror_mode": {
    "name": "ipython",
    "version": 3
   },
   "file_extension": ".py",
   "mimetype": "text/x-python",
   "name": "python",
   "nbconvert_exporter": "python",
   "pygments_lexer": "ipython3",
   "version": "3.6.1"
  }
 },
 "nbformat": 4,
 "nbformat_minor": 2
}
